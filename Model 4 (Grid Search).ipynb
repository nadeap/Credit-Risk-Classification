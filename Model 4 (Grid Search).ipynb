{
  "cells": [
    {
      "cell_type": "markdown",
      "metadata": {
        "id": "2FBznTbkeVvR"
      },
      "source": [
        "## Credit Risk Classification Using Grid Search"
      ]
    },
    {
      "cell_type": "code",
      "execution_count": null,
      "metadata": {
        "id": "3eQtWQafktJL"
      },
      "outputs": [],
      "source": [
        "import pandas as pd\n",
        "import numpy as np\n",
        "import matplotlib.pyplot as plt\n",
        "import seaborn as sns\n",
        "\n",
        "from sklearn.model_selection import train_test_split, GridSearchCV, RandomizedSearchCV\n",
        "from sklearn.ensemble import RandomForestClassifier\n",
        "\n",
        "from sklearn.metrics import accuracy_score, classification_report, confusion_matrix\n",
        "from sklearn.metrics import auc, roc_auc_score, roc_curve"
      ]
    },
    {
      "cell_type": "code",
      "execution_count": null,
      "metadata": {
        "id": "7XzBL9sCl41e"
      },
      "outputs": [],
      "source": [
        "# from google.colab import drive\n",
        "# drive.mount('/content/drive')"
      ]
    },
    {
      "cell_type": "markdown",
      "metadata": {
        "id": "hSJ9tdRYwES-"
      },
      "source": [
        "## Pemodelan"
      ]
    },
    {
      "cell_type": "code",
      "execution_count": null,
      "metadata": {
        "colab": {
          "base_uri": "https://localhost:8080/",
          "height": 243
        },
        "id": "Mxbmo3-EZSh0",
        "outputId": "005b5cd3-9d6b-4b49-db8b-5426d2f6d2d0"
      },
      "outputs": [
        {
          "data": {
            "text/html": [
              "<div>\n",
              "<style scoped>\n",
              "    .dataframe tbody tr th:only-of-type {\n",
              "        vertical-align: middle;\n",
              "    }\n",
              "\n",
              "    .dataframe tbody tr th {\n",
              "        vertical-align: top;\n",
              "    }\n",
              "\n",
              "    .dataframe thead th {\n",
              "        text-align: right;\n",
              "    }\n",
              "</style>\n",
              "<table border=\"1\" class=\"dataframe\">\n",
              "  <thead>\n",
              "    <tr style=\"text-align: right;\">\n",
              "      <th></th>\n",
              "      <th>Unnamed: 0</th>\n",
              "      <th>Umur</th>\n",
              "      <th>Pendapatan</th>\n",
              "      <th>KepemilikanRumah</th>\n",
              "      <th>LamaKerja</th>\n",
              "      <th>TujuanPeminjaman</th>\n",
              "      <th>HasilPemeriksaanBackground</th>\n",
              "      <th>JumlahPinjaman</th>\n",
              "      <th>SukuBunga</th>\n",
              "      <th>HistoryKegagalan</th>\n",
              "      <th>JumlahHistoriPeminjaman</th>\n",
              "      <th>Konfirmasi%Pendapatan</th>\n",
              "      <th>StatusPinjaman</th>\n",
              "    </tr>\n",
              "  </thead>\n",
              "  <tbody>\n",
              "    <tr>\n",
              "      <th>0</th>\n",
              "      <td>0</td>\n",
              "      <td>-0.714286</td>\n",
              "      <td>-1.049351</td>\n",
              "      <td>3</td>\n",
              "      <td>0.2</td>\n",
              "      <td>2.0</td>\n",
              "      <td>2</td>\n",
              "      <td>-0.833333</td>\n",
              "      <td>-0.110769</td>\n",
              "      <td>1</td>\n",
              "      <td>2.0</td>\n",
              "      <td>0.104167</td>\n",
              "      <td>0.0</td>\n",
              "    </tr>\n",
              "    <tr>\n",
              "      <th>1</th>\n",
              "      <td>1</td>\n",
              "      <td>-0.142857</td>\n",
              "      <td>-1.049351</td>\n",
              "      <td>1</td>\n",
              "      <td>-0.6</td>\n",
              "      <td>4.0</td>\n",
              "      <td>3</td>\n",
              "      <td>-0.333333</td>\n",
              "      <td>0.225425</td>\n",
              "      <td>1</td>\n",
              "      <td>3.0</td>\n",
              "      <td>0.572917</td>\n",
              "      <td>1.0</td>\n",
              "    </tr>\n",
              "    <tr>\n",
              "      <th>2</th>\n",
              "      <td>2</td>\n",
              "      <td>-0.428571</td>\n",
              "      <td>0.402597</td>\n",
              "      <td>4</td>\n",
              "      <td>0.0</td>\n",
              "      <td>4.0</td>\n",
              "      <td>3</td>\n",
              "      <td>2.944444</td>\n",
              "      <td>0.684049</td>\n",
              "      <td>1</td>\n",
              "      <td>2.0</td>\n",
              "      <td>0.534351</td>\n",
              "      <td>1.0</td>\n",
              "    </tr>\n",
              "    <tr>\n",
              "      <th>3</th>\n",
              "      <td>3</td>\n",
              "      <td>-0.285714</td>\n",
              "      <td>0.114286</td>\n",
              "      <td>4</td>\n",
              "      <td>0.8</td>\n",
              "      <td>4.0</td>\n",
              "      <td>3</td>\n",
              "      <td>2.944444</td>\n",
              "      <td>0.497490</td>\n",
              "      <td>2</td>\n",
              "      <td>4.0</td>\n",
              "      <td>0.643382</td>\n",
              "      <td>1.0</td>\n",
              "    </tr>\n",
              "    <tr>\n",
              "      <th>4</th>\n",
              "      <td>4</td>\n",
              "      <td>-0.714286</td>\n",
              "      <td>-1.041558</td>\n",
              "      <td>3</td>\n",
              "      <td>-0.4</td>\n",
              "      <td>6.0</td>\n",
              "      <td>1</td>\n",
              "      <td>-0.666667</td>\n",
              "      <td>-0.888097</td>\n",
              "      <td>1</td>\n",
              "      <td>2.0</td>\n",
              "      <td>0.252525</td>\n",
              "      <td>1.0</td>\n",
              "    </tr>\n",
              "  </tbody>\n",
              "</table>\n",
              "</div>"
            ],
            "text/plain": [
              "   Unnamed: 0      Umur  Pendapatan  KepemilikanRumah  LamaKerja  \\\n",
              "0           0 -0.714286   -1.049351                 3        0.2   \n",
              "1           1 -0.142857   -1.049351                 1       -0.6   \n",
              "2           2 -0.428571    0.402597                 4        0.0   \n",
              "3           3 -0.285714    0.114286                 4        0.8   \n",
              "4           4 -0.714286   -1.041558                 3       -0.4   \n",
              "\n",
              "   TujuanPeminjaman  HasilPemeriksaanBackground  JumlahPinjaman  SukuBunga  \\\n",
              "0               2.0                           2       -0.833333  -0.110769   \n",
              "1               4.0                           3       -0.333333   0.225425   \n",
              "2               4.0                           3        2.944444   0.684049   \n",
              "3               4.0                           3        2.944444   0.497490   \n",
              "4               6.0                           1       -0.666667  -0.888097   \n",
              "\n",
              "   HistoryKegagalan  JumlahHistoriPeminjaman  Konfirmasi%Pendapatan  \\\n",
              "0                 1                      2.0               0.104167   \n",
              "1                 1                      3.0               0.572917   \n",
              "2                 1                      2.0               0.534351   \n",
              "3                 2                      4.0               0.643382   \n",
              "4                 1                      2.0               0.252525   \n",
              "\n",
              "   StatusPinjaman  \n",
              "0             0.0  \n",
              "1             1.0  \n",
              "2             1.0  \n",
              "3             1.0  \n",
              "4             1.0  "
            ]
          },
          "execution_count": 3,
          "metadata": {},
          "output_type": "execute_result"
        }
      ],
      "source": [
        "data = pd.read_csv('dataROS.csv')\n",
        "data.head()"
      ]
    },
    {
      "cell_type": "code",
      "execution_count": null,
      "metadata": {
        "colab": {
          "base_uri": "https://localhost:8080/",
          "height": 226
        },
        "id": "_KIHFaRgZzma",
        "outputId": "72373ddd-78fb-4b81-eeab-d9aec61036b1"
      },
      "outputs": [
        {
          "data": {
            "text/html": [
              "<div>\n",
              "<style scoped>\n",
              "    .dataframe tbody tr th:only-of-type {\n",
              "        vertical-align: middle;\n",
              "    }\n",
              "\n",
              "    .dataframe tbody tr th {\n",
              "        vertical-align: top;\n",
              "    }\n",
              "\n",
              "    .dataframe thead th {\n",
              "        text-align: right;\n",
              "    }\n",
              "</style>\n",
              "<table border=\"1\" class=\"dataframe\">\n",
              "  <thead>\n",
              "    <tr style=\"text-align: right;\">\n",
              "      <th></th>\n",
              "      <th>Umur</th>\n",
              "      <th>Pendapatan</th>\n",
              "      <th>KepemilikanRumah</th>\n",
              "      <th>LamaKerja</th>\n",
              "      <th>TujuanPeminjaman</th>\n",
              "      <th>HasilPemeriksaanBackground</th>\n",
              "      <th>JumlahPinjaman</th>\n",
              "      <th>SukuBunga</th>\n",
              "      <th>HistoryKegagalan</th>\n",
              "      <th>JumlahHistoriPeminjaman</th>\n",
              "      <th>Konfirmasi%Pendapatan</th>\n",
              "      <th>StatusPinjaman</th>\n",
              "    </tr>\n",
              "  </thead>\n",
              "  <tbody>\n",
              "    <tr>\n",
              "      <th>0</th>\n",
              "      <td>-0.714286</td>\n",
              "      <td>-1.049351</td>\n",
              "      <td>3</td>\n",
              "      <td>0.2</td>\n",
              "      <td>2.0</td>\n",
              "      <td>2</td>\n",
              "      <td>-0.833333</td>\n",
              "      <td>-0.110769</td>\n",
              "      <td>1</td>\n",
              "      <td>2.0</td>\n",
              "      <td>0.104167</td>\n",
              "      <td>0.0</td>\n",
              "    </tr>\n",
              "    <tr>\n",
              "      <th>1</th>\n",
              "      <td>-0.142857</td>\n",
              "      <td>-1.049351</td>\n",
              "      <td>1</td>\n",
              "      <td>-0.6</td>\n",
              "      <td>4.0</td>\n",
              "      <td>3</td>\n",
              "      <td>-0.333333</td>\n",
              "      <td>0.225425</td>\n",
              "      <td>1</td>\n",
              "      <td>3.0</td>\n",
              "      <td>0.572917</td>\n",
              "      <td>1.0</td>\n",
              "    </tr>\n",
              "    <tr>\n",
              "      <th>2</th>\n",
              "      <td>-0.428571</td>\n",
              "      <td>0.402597</td>\n",
              "      <td>4</td>\n",
              "      <td>0.0</td>\n",
              "      <td>4.0</td>\n",
              "      <td>3</td>\n",
              "      <td>2.944444</td>\n",
              "      <td>0.684049</td>\n",
              "      <td>1</td>\n",
              "      <td>2.0</td>\n",
              "      <td>0.534351</td>\n",
              "      <td>1.0</td>\n",
              "    </tr>\n",
              "    <tr>\n",
              "      <th>3</th>\n",
              "      <td>-0.285714</td>\n",
              "      <td>0.114286</td>\n",
              "      <td>4</td>\n",
              "      <td>0.8</td>\n",
              "      <td>4.0</td>\n",
              "      <td>3</td>\n",
              "      <td>2.944444</td>\n",
              "      <td>0.497490</td>\n",
              "      <td>2</td>\n",
              "      <td>4.0</td>\n",
              "      <td>0.643382</td>\n",
              "      <td>1.0</td>\n",
              "    </tr>\n",
              "    <tr>\n",
              "      <th>4</th>\n",
              "      <td>-0.714286</td>\n",
              "      <td>-1.041558</td>\n",
              "      <td>3</td>\n",
              "      <td>-0.4</td>\n",
              "      <td>6.0</td>\n",
              "      <td>1</td>\n",
              "      <td>-0.666667</td>\n",
              "      <td>-0.888097</td>\n",
              "      <td>1</td>\n",
              "      <td>2.0</td>\n",
              "      <td>0.252525</td>\n",
              "      <td>1.0</td>\n",
              "    </tr>\n",
              "  </tbody>\n",
              "</table>\n",
              "</div>"
            ],
            "text/plain": [
              "       Umur  Pendapatan  KepemilikanRumah  LamaKerja  TujuanPeminjaman  \\\n",
              "0 -0.714286   -1.049351                 3        0.2               2.0   \n",
              "1 -0.142857   -1.049351                 1       -0.6               4.0   \n",
              "2 -0.428571    0.402597                 4        0.0               4.0   \n",
              "3 -0.285714    0.114286                 4        0.8               4.0   \n",
              "4 -0.714286   -1.041558                 3       -0.4               6.0   \n",
              "\n",
              "   HasilPemeriksaanBackground  JumlahPinjaman  SukuBunga  HistoryKegagalan  \\\n",
              "0                           2       -0.833333  -0.110769                 1   \n",
              "1                           3       -0.333333   0.225425                 1   \n",
              "2                           3        2.944444   0.684049                 1   \n",
              "3                           3        2.944444   0.497490                 2   \n",
              "4                           1       -0.666667  -0.888097                 1   \n",
              "\n",
              "   JumlahHistoriPeminjaman  Konfirmasi%Pendapatan  StatusPinjaman  \n",
              "0                      2.0               0.104167             0.0  \n",
              "1                      3.0               0.572917             1.0  \n",
              "2                      2.0               0.534351             1.0  \n",
              "3                      4.0               0.643382             1.0  \n",
              "4                      2.0               0.252525             1.0  "
            ]
          },
          "execution_count": 4,
          "metadata": {},
          "output_type": "execute_result"
        }
      ],
      "source": [
        "data = data.drop(columns=['Unnamed: 0'])\n",
        "data.head()"
      ]
    },
    {
      "cell_type": "code",
      "execution_count": null,
      "metadata": {
        "colab": {
          "base_uri": "https://localhost:8080/"
        },
        "id": "dwAygoUr8yZz",
        "outputId": "bb34e5b9-8a55-443b-eee7-ca63c5e30d35"
      },
      "outputs": [
        {
          "data": {
            "text/plain": [
              "0.0    25429\n",
              "1.0    25429\n",
              "Name: StatusPinjaman, dtype: int64"
            ]
          },
          "execution_count": 5,
          "metadata": {},
          "output_type": "execute_result"
        }
      ],
      "source": [
        "data['StatusPinjaman'].value_counts()"
      ]
    },
    {
      "cell_type": "code",
      "execution_count": null,
      "metadata": {
        "colab": {
          "base_uri": "https://localhost:8080/"
        },
        "id": "FHRyH7BsZ51R",
        "outputId": "fdd7e6e2-362f-4267-abc6-36d3b5c29379"
      },
      "outputs": [
        {
          "data": {
            "text/plain": [
              "(50858, 12)"
            ]
          },
          "execution_count": 6,
          "metadata": {},
          "output_type": "execute_result"
        }
      ],
      "source": [
        "data.shape"
      ]
    },
    {
      "cell_type": "code",
      "execution_count": null,
      "metadata": {
        "id": "kWRLM8w_ZcwX"
      },
      "outputs": [],
      "source": [
        "x = data.drop(columns='StatusPinjaman')\n",
        "y = data['StatusPinjaman']"
      ]
    },
    {
      "cell_type": "code",
      "execution_count": null,
      "metadata": {
        "id": "R07WkK5wpsn0"
      },
      "outputs": [],
      "source": [
        "x_train, x_test, y_train, y_test = train_test_split(x,y ,train_size=0.7, stratify=y, random_state=42)"
      ]
    },
    {
      "cell_type": "code",
      "execution_count": null,
      "metadata": {
        "colab": {
          "base_uri": "https://localhost:8080/"
        },
        "id": "WdBIN-xxpz6I",
        "outputId": "d78db1f9-d772-41e8-973b-7dc05a2b033a"
      },
      "outputs": [
        {
          "data": {
            "text/plain": [
              "((35600, 11), (15258, 11))"
            ]
          },
          "execution_count": 9,
          "metadata": {},
          "output_type": "execute_result"
        }
      ],
      "source": [
        "x_train.shape,x_test.shape"
      ]
    },
    {
      "cell_type": "markdown",
      "metadata": {
        "id": "vRJedpx-4xoo"
      },
      "source": [
        "Parameter RF dicari teori\n",
        "\n",
        "Jurnal HT RF"
      ]
    },
    {
      "cell_type": "code",
      "execution_count": null,
      "metadata": {
        "id": "ICBdEzHlp1VX"
      },
      "outputs": [],
      "source": [
        "n_estimators = [int(x) for x in np.linspace(start = 100, stop = 1000, num = 10)]\n",
        "criterion= ['gini', 'entropy', 'log_loss']\n",
        "max_features = ['None', 'sqrt', 'log2']\n",
        "max_depth = [int(x) for x in np.linspace(5, 55, num = 11)]\n",
        "max_depth.append(None)\n",
        "min_samples_split = [2, 5, 10, 20]\n",
        "min_samples_leaf = [1, 2, 4, 8, 10]"
      ]
    },
    {
      "cell_type": "code",
      "execution_count": null,
      "metadata": {
        "colab": {
          "base_uri": "https://localhost:8080/"
        },
        "id": "U6MJwRrrp5Pi",
        "outputId": "a111e7d1-4a4a-4f93-b1c4-ae5d6af436eb"
      },
      "outputs": [
        {
          "name": "stdout",
          "output_type": "stream",
          "text": [
            "{'n_estimators': [100, 200, 300, 400, 500, 600, 700, 800, 900, 1000], 'criterion': ['gini', 'entropy', 'log_loss'], 'max_depth': [5, 10, 15, 20, 25, 30, 35, 40, 45, 50, 55, None], 'max_features': ['None', 'sqrt', 'log2'], 'min_samples_split': [2, 5, 10, 20], 'min_samples_leaf': [1, 2, 4, 8, 10]}\n"
          ]
        }
      ],
      "source": [
        "param_grid = {\n",
        "    'n_estimators': n_estimators,\n",
        "    'criterion': criterion,\n",
        "    'max_depth': max_depth,\n",
        "    'max_features': max_features,\n",
        "    'min_samples_split': min_samples_split,\n",
        "    'min_samples_leaf': min_samples_leaf\n",
        "    }\n",
        "\n",
        "print(param_grid)"
      ]
    },
    {
      "cell_type": "code",
      "execution_count": null,
      "metadata": {
        "id": "qUpm33xop58x"
      },
      "outputs": [],
      "source": [
        "model_grid = RandomForestClassifier()"
      ]
    },
    {
      "cell_type": "code",
      "execution_count": null,
      "metadata": {
        "id": "W7nSj8zcp7gg"
      },
      "outputs": [],
      "source": [
        "CV_model_grid = GridSearchCV(estimator = model_grid, param_grid = param_grid, scoring = 'accuracy', n_jobs=-1, verbose=10)"
      ]
    },
    {
      "cell_type": "code",
      "execution_count": null,
      "metadata": {
        "colab": {
          "base_uri": "https://localhost:8080/",
          "height": 557
        },
        "id": "AlFnmfsnp8qu",
        "outputId": "32dad7c9-3584-4a98-dc60-0685a609fb61"
      },
      "outputs": [
        {
          "name": "stdout",
          "output_type": "stream",
          "text": [
            "Fitting 5 folds for each of 21600 candidates, totalling 108000 fits\n"
          ]
        },
        {
          "name": "stderr",
          "output_type": "stream",
          "text": [
            "C:\\Users\\LABDATAPC01\\anaconda3\\lib\\site-packages\\sklearn\\model_selection\\_validation.py:372: FitFailedWarning: \n",
            "60000 fits failed out of a total of 108000.\n",
            "The score on these train-test partitions for these parameters will be set to nan.\n",
            "If these failures are not expected, you can try to debug them by setting error_score='raise'.\n",
            "\n",
            "Below are more details about the failures:\n",
            "--------------------------------------------------------------------------------\n",
            "36000 fits failed with the following error:\n",
            "Traceback (most recent call last):\n",
            "  File \"C:\\Users\\LABDATAPC01\\anaconda3\\lib\\site-packages\\sklearn\\model_selection\\_validation.py\", line 680, in _fit_and_score\n",
            "    estimator.fit(X_train, y_train, **fit_params)\n",
            "  File \"C:\\Users\\LABDATAPC01\\anaconda3\\lib\\site-packages\\sklearn\\ensemble\\_forest.py\", line 450, in fit\n",
            "    trees = Parallel(\n",
            "  File \"C:\\Users\\LABDATAPC01\\anaconda3\\lib\\site-packages\\joblib\\parallel.py\", line 1043, in __call__\n",
            "    if self.dispatch_one_batch(iterator):\n",
            "  File \"C:\\Users\\LABDATAPC01\\anaconda3\\lib\\site-packages\\joblib\\parallel.py\", line 861, in dispatch_one_batch\n",
            "    self._dispatch(tasks)\n",
            "  File \"C:\\Users\\LABDATAPC01\\anaconda3\\lib\\site-packages\\joblib\\parallel.py\", line 779, in _dispatch\n",
            "    job = self._backend.apply_async(batch, callback=cb)\n",
            "  File \"C:\\Users\\LABDATAPC01\\anaconda3\\lib\\site-packages\\joblib\\_parallel_backends.py\", line 208, in apply_async\n",
            "    result = ImmediateResult(func)\n",
            "  File \"C:\\Users\\LABDATAPC01\\anaconda3\\lib\\site-packages\\joblib\\_parallel_backends.py\", line 572, in __init__\n",
            "    self.results = batch()\n",
            "  File \"C:\\Users\\LABDATAPC01\\anaconda3\\lib\\site-packages\\joblib\\parallel.py\", line 262, in __call__\n",
            "    return [func(*args, **kwargs)\n",
            "  File \"C:\\Users\\LABDATAPC01\\anaconda3\\lib\\site-packages\\joblib\\parallel.py\", line 262, in <listcomp>\n",
            "    return [func(*args, **kwargs)\n",
            "  File \"C:\\Users\\LABDATAPC01\\anaconda3\\lib\\site-packages\\sklearn\\utils\\fixes.py\", line 216, in __call__\n",
            "    return self.function(*args, **kwargs)\n",
            "  File \"C:\\Users\\LABDATAPC01\\anaconda3\\lib\\site-packages\\sklearn\\ensemble\\_forest.py\", line 185, in _parallel_build_trees\n",
            "    tree.fit(X, y, sample_weight=curr_sample_weight, check_input=False)\n",
            "  File \"C:\\Users\\LABDATAPC01\\anaconda3\\lib\\site-packages\\sklearn\\tree\\_classes.py\", line 937, in fit\n",
            "    super().fit(\n",
            "  File \"C:\\Users\\LABDATAPC01\\anaconda3\\lib\\site-packages\\sklearn\\tree\\_classes.py\", line 281, in fit\n",
            "    raise ValueError(\n",
            "ValueError: Invalid value for max_features. Allowed string values are 'auto', 'sqrt' or 'log2'.\n",
            "\n",
            "--------------------------------------------------------------------------------\n",
            "24000 fits failed with the following error:\n",
            "Traceback (most recent call last):\n",
            "  File \"C:\\Users\\LABDATAPC01\\anaconda3\\lib\\site-packages\\sklearn\\model_selection\\_validation.py\", line 680, in _fit_and_score\n",
            "    estimator.fit(X_train, y_train, **fit_params)\n",
            "  File \"C:\\Users\\LABDATAPC01\\anaconda3\\lib\\site-packages\\sklearn\\ensemble\\_forest.py\", line 450, in fit\n",
            "    trees = Parallel(\n",
            "  File \"C:\\Users\\LABDATAPC01\\anaconda3\\lib\\site-packages\\joblib\\parallel.py\", line 1043, in __call__\n",
            "    if self.dispatch_one_batch(iterator):\n",
            "  File \"C:\\Users\\LABDATAPC01\\anaconda3\\lib\\site-packages\\joblib\\parallel.py\", line 861, in dispatch_one_batch\n",
            "    self._dispatch(tasks)\n",
            "  File \"C:\\Users\\LABDATAPC01\\anaconda3\\lib\\site-packages\\joblib\\parallel.py\", line 779, in _dispatch\n",
            "    job = self._backend.apply_async(batch, callback=cb)\n",
            "  File \"C:\\Users\\LABDATAPC01\\anaconda3\\lib\\site-packages\\joblib\\_parallel_backends.py\", line 208, in apply_async\n",
            "    result = ImmediateResult(func)\n",
            "  File \"C:\\Users\\LABDATAPC01\\anaconda3\\lib\\site-packages\\joblib\\_parallel_backends.py\", line 572, in __init__\n",
            "    self.results = batch()\n",
            "  File \"C:\\Users\\LABDATAPC01\\anaconda3\\lib\\site-packages\\joblib\\parallel.py\", line 262, in __call__\n",
            "    return [func(*args, **kwargs)\n",
            "  File \"C:\\Users\\LABDATAPC01\\anaconda3\\lib\\site-packages\\joblib\\parallel.py\", line 262, in <listcomp>\n",
            "    return [func(*args, **kwargs)\n",
            "  File \"C:\\Users\\LABDATAPC01\\anaconda3\\lib\\site-packages\\sklearn\\utils\\fixes.py\", line 216, in __call__\n",
            "    return self.function(*args, **kwargs)\n",
            "  File \"C:\\Users\\LABDATAPC01\\anaconda3\\lib\\site-packages\\sklearn\\ensemble\\_forest.py\", line 185, in _parallel_build_trees\n",
            "    tree.fit(X, y, sample_weight=curr_sample_weight, check_input=False)\n",
            "  File \"C:\\Users\\LABDATAPC01\\anaconda3\\lib\\site-packages\\sklearn\\tree\\_classes.py\", line 937, in fit\n",
            "    super().fit(\n",
            "  File \"C:\\Users\\LABDATAPC01\\anaconda3\\lib\\site-packages\\sklearn\\tree\\_classes.py\", line 352, in fit\n",
            "    criterion = CRITERIA_CLF[self.criterion](\n",
            "KeyError: 'log_loss'\n",
            "\n",
            "  warnings.warn(some_fits_failed_message, FitFailedWarning)\n",
            "C:\\Users\\LABDATAPC01\\anaconda3\\lib\\site-packages\\sklearn\\model_selection\\_search.py:969: UserWarning: One or more of the test scores are non-finite: [nan nan nan ... nan nan nan]\n",
            "  warnings.warn(\n"
          ]
        },
        {
          "data": {
            "text/plain": [
              "GridSearchCV(estimator=RandomForestClassifier(), n_jobs=-1,\n",
              "             param_grid={'criterion': ['gini', 'entropy', 'log_loss'],\n",
              "                         'max_depth': [5, 10, 15, 20, 25, 30, 35, 40, 45, 50,\n",
              "                                       55, None],\n",
              "                         'max_features': ['None', 'sqrt', 'log2'],\n",
              "                         'min_samples_leaf': [1, 2, 4, 8, 10],\n",
              "                         'min_samples_split': [2, 5, 10, 20],\n",
              "                         'n_estimators': [100, 200, 300, 400, 500, 600, 700,\n",
              "                                          800, 900, 1000]},\n",
              "             scoring='accuracy', verbose=10)"
            ]
          },
          "execution_count": 14,
          "metadata": {},
          "output_type": "execute_result"
        }
      ],
      "source": [
        "CV_model_grid.fit(x_train, y_train)"
      ]
    },
    {
      "cell_type": "code",
      "execution_count": null,
      "metadata": {
        "colab": {
          "base_uri": "https://localhost:8080/"
        },
        "id": "3HJD49p_p9x_",
        "outputId": "f9d28d0b-d46c-4e54-d7ea-ed3e83b4c33d"
      },
      "outputs": [
        {
          "name": "stdout",
          "output_type": "stream",
          "text": [
            "Best parameters found:  {'criterion': 'entropy', 'max_depth': 30, 'max_features': 'sqrt', 'min_samples_leaf': 1, 'min_samples_split': 2, 'n_estimators': 600}\n",
            "Best accuracy found:  0.9700842696629213\n"
          ]
        }
      ],
      "source": [
        "print('Best parameters found: ', CV_model_grid.best_params_)\n",
        "print('Best accuracy found: ', CV_model_grid.best_score_)"
      ]
    },
    {
      "cell_type": "code",
      "execution_count": null,
      "metadata": {
        "colab": {
          "base_uri": "https://localhost:8080/"
        },
        "id": "53iO6_VmqAVc",
        "outputId": "1bdf0792-1748-43ec-d0d4-b74b43a22765"
      },
      "outputs": [
        {
          "name": "stdout",
          "output_type": "stream",
          "text": [
            "Test accuracy:  0.9794861711888845\n"
          ]
        }
      ],
      "source": [
        "best_model = CV_model_grid.best_estimator_\n",
        "test_accuracy = best_model.score(x_test, y_test)\n",
        "print('Test accuracy: ', test_accuracy)"
      ]
    },
    {
      "cell_type": "markdown",
      "metadata": {
        "id": "es1QwgDlqQW3"
      },
      "source": [
        "### EVALUASI"
      ]
    },
    {
      "cell_type": "code",
      "execution_count": null,
      "metadata": {
        "id": "d0ZlGePbqB-E"
      },
      "outputs": [],
      "source": [
        "train_predict = best_model.predict(x_train)\n",
        "test_predict = best_model.predict(x_test)"
      ]
    },
    {
      "cell_type": "code",
      "execution_count": null,
      "metadata": {
        "colab": {
          "base_uri": "https://localhost:8080/"
        },
        "id": "N_XSyZN1qDtB",
        "outputId": "8b51a9e6-a6ce-47c0-f71f-a6d4585a9e1b"
      },
      "outputs": [
        {
          "name": "stdout",
          "output_type": "stream",
          "text": [
            "Akurasi pada data training: 1.0\n",
            "Akurasi pada data testing: 0.9794861711888845\n"
          ]
        }
      ],
      "source": [
        "train_acc = accuracy_score(y_train, train_predict)\n",
        "test_acc = accuracy_score(y_test, test_predict)\n",
        "\n",
        "print(f\"Akurasi pada data training: {train_acc:}\")\n",
        "print(f\"Akurasi pada data testing: {test_acc:}\")"
      ]
    },
    {
      "cell_type": "code",
      "execution_count": null,
      "metadata": {
        "id": "wYkYpkz2qI6i"
      },
      "outputs": [],
      "source": [
        "y_pred = best_model.predict_proba(x_test)\n",
        "y_pred_train = best_model.predict_proba(x_train)"
      ]
    },
    {
      "cell_type": "code",
      "execution_count": null,
      "metadata": {
        "id": "apavDEuFqKSI"
      },
      "outputs": [],
      "source": [
        "y_pred = y_pred[:, 1]\n",
        "y_pred_train = y_pred_train[:, 1]"
      ]
    },
    {
      "cell_type": "code",
      "execution_count": null,
      "metadata": {
        "id": "jVXWDo8FqLtC"
      },
      "outputs": [],
      "source": [
        "def plot_roc_curve(fpr, tpr):\n",
        "    plt.plot(fpr, tpr, color='orange', label='ROC curve (area = %0.2f)' % auc)\n",
        "    plt.plot([0, 1], [0, 1], color='darkblue', linestyle='--')\n",
        "    plt.xlabel('False Positive Rate')\n",
        "    plt.ylabel('True Positive Rate')\n",
        "    plt.title('Receiver Operating Characteristic (ROC) Curve')\n",
        "    plt.legend()\n",
        "    plt.show()"
      ]
    },
    {
      "cell_type": "code",
      "execution_count": null,
      "metadata": {
        "colab": {
          "base_uri": "https://localhost:8080/"
        },
        "id": "d5WycPmzqM9j",
        "outputId": "ea78898d-5ff8-477c-a8df-b4f83be16eda"
      },
      "outputs": [
        {
          "name": "stdout",
          "output_type": "stream",
          "text": [
            "AUC: 0.99\n"
          ]
        }
      ],
      "source": [
        "auc = roc_auc_score(y_test, y_pred)\n",
        "print('AUC: %.2f' % auc)"
      ]
    },
    {
      "cell_type": "code",
      "execution_count": null,
      "metadata": {
        "colab": {
          "base_uri": "https://localhost:8080/",
          "height": 472
        },
        "id": "vxplLA8SqOgs",
        "outputId": "9522c5d3-26ac-4fbc-d9f6-ab7303f8e1b3"
      },
      "outputs": [
        {
          "data": {
            "image/png": "[encoded data removed]",
            "text/plain": [
              "<Figure size 432x288 with 1 Axes>"
            ]
          },
          "metadata": {
            "needs_background": "light"
          },
          "output_type": "display_data"
        }
      ],
      "source": [
        "fpr, tpr, thresholds = roc_curve(y_test, y_pred)\n",
        "plot_roc_curve(fpr, tpr)"
      ]
    },
    {
      "cell_type": "code",
      "execution_count": null,
      "metadata": {
        "colab": {
          "base_uri": "https://localhost:8080/"
        },
        "id": "4CvBmvD7qT_a",
        "outputId": "b1154965-8d11-44e3-a62e-9cfe5f20c8c8"
      },
      "outputs": [
        {
          "data": {
            "text/plain": [
              "array([1, 0, 0, ..., 0, 0, 0])"
            ]
          },
          "execution_count": 24,
          "metadata": {},
          "output_type": "execute_result"
        }
      ],
      "source": [
        "y_pred1 = (y_pred > 0.5)*1\n",
        "y_pred1"
      ]
    },
    {
      "cell_type": "code",
      "execution_count": null,
      "metadata": {
        "colab": {
          "base_uri": "https://localhost:8080/"
        },
        "id": "RFsFyHd8yVLp",
        "outputId": "856db058-b0ae-47de-99e2-cc300a06b553"
      },
      "outputs": [
        {
          "data": {
            "text/plain": [
              "array([1, 0, 1, ..., 0, 1, 0])"
            ]
          },
          "execution_count": 25,
          "metadata": {},
          "output_type": "execute_result"
        }
      ],
      "source": [
        "y_pred_train1 = (y_pred_train > 0.5)*1\n",
        "y_pred_train1"
      ]
    },
    {
      "cell_type": "code",
      "execution_count": null,
      "metadata": {
        "colab": {
          "base_uri": "https://localhost:8080/"
        },
        "id": "GcYx2zQRqVGW",
        "outputId": "f8a744f8-171f-418c-ae2d-2fdc6fa9b459"
      },
      "outputs": [
        {
          "name": "stdout",
          "output_type": "stream",
          "text": [
            "0.9794861711888845\n"
          ]
        }
      ],
      "source": [
        "accuracy = accuracy_score(y_test, y_pred1)\n",
        "print(accuracy)"
      ]
    },
    {
      "cell_type": "markdown",
      "metadata": {
        "id": "cO9cy9Xu6F6W"
      },
      "source": [
        "tambahin Class Report Data Training"
      ]
    },
    {
      "cell_type": "code",
      "execution_count": null,
      "metadata": {
        "colab": {
          "base_uri": "https://localhost:8080/"
        },
        "id": "Jc-RW51Jxles",
        "outputId": "06831a5f-bc22-468e-ba48-b4791c5439da"
      },
      "outputs": [
        {
          "name": "stdout",
          "output_type": "stream",
          "text": [
            "Classification Report:\n",
            "               precision    recall  f1-score   support\n",
            "\n",
            "         0.0       1.00      1.00      1.00     17800\n",
            "         1.0       1.00      1.00      1.00     17800\n",
            "\n",
            "    accuracy                           1.00     35600\n",
            "   macro avg       1.00      1.00      1.00     35600\n",
            "weighted avg       1.00      1.00      1.00     35600\n",
            "\n"
          ]
        }
      ],
      "source": [
        "class_report_train = classification_report(y_train, y_pred_train1)\n",
        "print('Classification Report:\\n', class_report_train)"
      ]
    },
    {
      "cell_type": "code",
      "execution_count": null,
      "metadata": {
        "id": "Nu6qERA3_tw6"
      },
      "outputs": [],
      "source": [
        "from sklearn.metrics import accuracy_score, f1_score, recall_score, precision_score"
      ]
    },
    {
      "cell_type": "code",
      "execution_count": null,
      "metadata": {
        "id": "i0pIsfGw_tw6"
      },
      "outputs": [],
      "source": [
        "acc_train = accuracy_score(y_train, y_pred_train1)\n",
        "f1_train = f1_score(y_train, y_pred_train1)\n",
        "recall_train = recall_score(y_train, y_pred_train1)\n",
        "precision_train = precision_score(y_train, y_pred_train1)"
      ]
    },
    {
      "cell_type": "code",
      "execution_count": null,
      "metadata": {
        "id": "1CTugxd8_tw6",
        "outputId": "802e6abf-1355-4083-f2d0-6a44571b4861"
      },
      "outputs": [
        {
          "name": "stdout",
          "output_type": "stream",
          "text": [
            "Accuracy: 1.0\n",
            "F1 Score: 1.0\n",
            "Recall: 1.0\n",
            "Precision: 1.0\n"
          ]
        }
      ],
      "source": [
        "print('Accuracy:', acc_train)\n",
        "print('F1 Score:', f1_train)\n",
        "print('Recall:', recall_train)\n",
        "print('Precision:', precision_train)"
      ]
    },
    {
      "cell_type": "code",
      "execution_count": null,
      "metadata": {
        "id": "28iTJW7t_tw7"
      },
      "outputs": [],
      "source": [
        "acc = accuracy_score(y_test, y_pred1)\n",
        "f1 = f1_score(y_test, y_pred1)\n",
        "recall = recall_score(y_test, y_pred1)\n",
        "precision = precision_score(y_test, y_pred1)"
      ]
    },
    {
      "cell_type": "code",
      "execution_count": null,
      "metadata": {
        "id": "8Mpl8NFu_tw7",
        "outputId": "a8900d3e-fd10-4f66-d367-a2e5efdec497"
      },
      "outputs": [
        {
          "name": "stdout",
          "output_type": "stream",
          "text": [
            "Accuracy: 0.9794861711888845\n",
            "F1 Score: 0.9794659843862756\n",
            "Recall: 0.9785030803512911\n",
            "Precision: 0.9804307853953244\n"
          ]
        }
      ],
      "source": [
        "print('Accuracy:', acc)\n",
        "print('F1 Score:', f1)\n",
        "print('Recall:', recall)\n",
        "print('Precision:', precision)"
      ]
    },
    {
      "cell_type": "code",
      "execution_count": null,
      "metadata": {
        "colab": {
          "base_uri": "https://localhost:8080/"
        },
        "id": "3XYwjxm0qWTD",
        "outputId": "d9e6db52-e1f7-468a-d08a-007c7bdcd7e3"
      },
      "outputs": [
        {
          "name": "stdout",
          "output_type": "stream",
          "text": [
            "Classification Report:\n",
            "               precision    recall  f1-score   support\n",
            "\n",
            "         0.0       0.98      0.98      0.98      7629\n",
            "         1.0       0.98      0.98      0.98      7629\n",
            "\n",
            "    accuracy                           0.98     15258\n",
            "   macro avg       0.98      0.98      0.98     15258\n",
            "weighted avg       0.98      0.98      0.98     15258\n",
            "\n"
          ]
        }
      ],
      "source": [
        "class_report = classification_report(y_test, y_pred1)\n",
        "print('Classification Report:\\n', class_report)"
      ]
    },
    {
      "cell_type": "code",
      "execution_count": null,
      "metadata": {
        "id": "TfuGjx0qqXmO"
      },
      "outputs": [],
      "source": [
        "cmd = confusion_matrix(y_test, y_pred1)\n",
        "cmd_train = confusion_matrix(y_train, y_pred_train1)"
      ]
    },
    {
      "cell_type": "code",
      "execution_count": null,
      "metadata": {
        "colab": {
          "base_uri": "https://localhost:8080/",
          "height": 410
        },
        "id": "lHxSxCqJyrWi",
        "outputId": "6e56dec3-a792-4959-fb74-d9a1d7b95fac"
      },
      "outputs": [
        {
          "data": {
            "image/png": "[encoded data removed]",
            "text/plain": [
              "<Figure size 432x288 with 2 Axes>"
            ]
          },
          "metadata": {
            "needs_background": "light"
          },
          "output_type": "display_data"
        }
      ],
      "source": [
        "plt.figure(figsize=(6, 4))\n",
        "sns.heatmap(cmd_train, annot=True, fmt ='d', cmap='Reds')\n",
        "plt.title('Confusion Matrix - Training Data')\n",
        "plt.xlabel('Prediksi')\n",
        "plt.ylabel('Aktual')\n",
        "plt.show()"
      ]
    },
    {
      "cell_type": "code",
      "execution_count": null,
      "metadata": {
        "colab": {
          "base_uri": "https://localhost:8080/",
          "height": 410
        },
        "id": "uiKQs7yBqZX-",
        "outputId": "9c31c5e6-d22b-4458-bd86-678d4727c0c8"
      },
      "outputs": [
        {
          "data": {
            "image/png": "[encoded data removed]",
            "text/plain": [
              "<Figure size 432x288 with 2 Axes>"
            ]
          },
          "metadata": {
            "needs_background": "light"
          },
          "output_type": "display_data"
        }
      ],
      "source": [
        "plt.figure(figsize=(6, 4))\n",
        "sns.heatmap(cmd, annot=True, fmt ='d', cmap='Reds')\n",
        "plt.title('Confusion Matrix - Testing Data')\n",
        "plt.xlabel('Prediksi')\n",
        "plt.ylabel('Aktual')\n",
        "plt.show()"
      ]
    },
    {
      "cell_type": "code",
      "execution_count": null,
      "metadata": {
        "id": "lkZ7roPiuC9t"
      },
      "outputs": [],
      "source": [
        "import pickle\n",
        "\n",
        "with open('best_model.pkl', 'wb') as f:\n",
        "  pickle.dump(best_model, f)"
      ]
    },
    {
      "cell_type": "code",
      "execution_count": null,
      "metadata": {
        "id": "EsZJxDvm_txB"
      },
      "outputs": [],
      "source": []
    }
  ],
  "metadata": {
    "colab": {
      "provenance": []
    },
    "kernelspec": {
      "display_name": "Python 3 (ipykernel)",
      "language": "python",
      "name": "python3"
    },
    "language_info": {
      "codemirror_mode": {
        "name": "ipython",
        "version": 3
      },
      "file_extension": ".py",
      "mimetype": "text/x-python",
      "name": "python",
      "nbconvert_exporter": "python",
      "pygments_lexer": "ipython3",
      "version": "3.9.7"
    }
  },
  "nbformat": 4,
  "nbformat_minor": 0
}